{
 "cells": [
  {
   "cell_type": "markdown",
   "id": "b8dd64ac",
   "metadata": {},
   "source": [
    "# Investigate a Dataset\n",
    "This project is part of Udacity's Data Analyst Nanodegree.\n",
    "\n",
    "\"Choose one of Udacity's curated datasets and investigate it using NumPy and Pandas. Go through the entire data analysis process, starting by posing a question and finishing by sharing your findings.\"\n",
    "\n",
    "## About the dataset\n",
    "This dataset contains information about more than 10,000 movies from The Movie Database, including budget, revenue, cast, genre, release date and user ratings."
   ]
  },
  {
   "cell_type": "code",
   "execution_count": null,
   "id": "e8269c73",
   "metadata": {},
   "outputs": [],
   "source": []
  }
 ],
 "metadata": {
  "kernelspec": {
   "display_name": "Python 3 (ipykernel)",
   "language": "python",
   "name": "python3"
  },
  "language_info": {
   "codemirror_mode": {
    "name": "ipython",
    "version": 3
   },
   "file_extension": ".py",
   "mimetype": "text/x-python",
   "name": "python",
   "nbconvert_exporter": "python",
   "pygments_lexer": "ipython3",
   "version": "3.9.12"
  }
 },
 "nbformat": 4,
 "nbformat_minor": 5
}
